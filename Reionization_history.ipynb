{
 "cells": [
  {
   "cell_type": "markdown",
   "id": "541838e5",
   "metadata": {},
   "source": [
    "## Reionization History\n",
    "\n",
    "#### I plan to show how to calculate the reionization history (neutral fraction as a function of redshift ) in this notebook.  \n",
    "#### The main idea is to solve the following equation: \n",
    "\n",
    "### $ \\frac{d Q_{HII}}{dt}  = \\frac{\\dot{N_{ion}} }{n_H}  - \\frac{Q_{HII}}{t_{rec}}$ \n",
    "\n",
    "#### where $Q_{HII}$ is the ionized hydrogen density, $\\dot{N_{ion}}$ is the ionizing photon production rate, $n_H$ is the (total) gas density, and $t_{rec}$ is the recombination (of ionized H and election) time scale. \n",
    "\n",
    "#### We will get the boundary condition (or inital condition) of $Q_{HII}$ and $n_H$ from the cosmolgy package.  They we can iterate the equation above from the inital condition and solve it numerically.  During this process, we need to calculate the $\\dot{N_{ion}}$ with our choice of models. \n",
    "\n",
    "#### Often the $\\dot{N_{ion}}$ can be break down into: \n",
    "### $ \\dot{N_{ion}} =   f_{esc} \\cdot \\xi_{ion} \\cdot \\rho_{UV} $\n",
    "#### where $f_{esc}$ is the ionizing escape fraction ($f^{LyC}_{esc}$), $\\xi_{ion}$ is the ionizing photon production efficiency, and $\\rho_{UV}$ is the UV luminosity function. Let's check the dimension:   \n",
    "### $\\dot{N_{ion}} [s^{-1} /Mpc^{3}]~~~$;   $~~~f_{esc} []~~~$  $\\xi_{ion} [s^{-1} / (erg s^{-1} Hz^{-1})]~~~$  $\\rho_{UV} [erg s^{-1} Hz^{-1}/Mpc^{3}]$ \n",
    "\n",
    "#### For simplicity,  I will assume a constant  $f_{esc}$ and $\\xi_{ion}$ to get to the result.  You can adjust the code to generalize these parameters to your need. \n",
    "\n",
    "\n",
    "#### Notation:  opz = 1 + z ,  where z = redshift"
   ]
  },
  {
   "cell_type": "code",
   "execution_count": 1,
   "id": "af26de8e",
   "metadata": {},
   "outputs": [],
   "source": [
    "import numpy as np \n",
    "from astropy.cosmology import Planck18, z_at_value\n",
    "import astropy.units as u\n",
    "from scipy.interpolate import interp1d\n",
    "from scipy import integrate\n",
    "import matplotlib.pyplot as plt\n",
    "\n",
    "####### Constants \n",
    "Mpc_per_cm  = 3.086e+24 # Mpc to cm\n",
    "proton_mass = 1.6726219e-24 # gram\n",
    "fH = 0.76 # hydrogen mass fraction, 0.24 is helium.\n",
    "Gyr_per_sec = 3.15e16 # Gyr to sec\n",
    "alpha = 4.2e-13 # cm^3 s^-1 \n",
    "\n",
    "\n",
    "\n",
    "#######  Handy function \n",
    "def d_pc(opz):\n",
    "    d_pc=Planck18.luminosity_distance(z=(opz-1)).value*1e6 \n",
    "    return d_pc\n",
    "\n",
    "def d_cm(opz):\n",
    "    d_cm=Planck18.luminosity_distance(z=(opz-1)).value*1e6*3.086e18 \n",
    "    return d_cm\n",
    "\n",
    "\n",
    "def ABMag(mag, opz): \n",
    "    return mag-5*np.log10(d_pc(opz)*1e-6)-25+2.5*np.log10(opz)\n",
    "\n",
    "def ABMag_to_mag(ABMag, opz): \n",
    "    return ABMag +5*np.log10(d_pc(opz)*1e-6) + 25 -2.5*np.log10(opz)\n",
    "\n",
    "def mag_to_flux(mag): \n",
    "    return np.power(10, -(mag+48.60)/2.5)\n"
   ]
  },
  {
   "cell_type": "markdown",
   "id": "f5ad4e79",
   "metadata": {},
   "source": [
    "#### We define the Luminosity function (LF) here, which is a Schechter function in magnitude form.  \n",
    "#### There are more faint objects, and less bright objects. \n",
    "#### $\\rho_{UV}$ will be integrating the luminosity function from the bright end to the faint end. "
   ]
  },
  {
   "cell_type": "code",
   "execution_count": 2,
   "id": "8554c1bf",
   "metadata": {},
   "outputs": [],
   "source": [
    "def LF(M, opz):  # https://ui.adsabs.harvard.edu/abs/2015ApJ...803...34B/abstract\n",
    "    psi = 0.44*10**(-0.28*(opz-7))*1e-3\n",
    "    alpha = -1.87 + (-0.1)*(opz - 7)\n",
    "    M0 = -20.97\n",
    "    nM = 0.4*np.log(10)*psi*np.power( 10**( 0.4*(M0-M) ), alpha+1 ) * np.exp(-10 ** ( 0.4*(M0-M)) )\n",
    "    return nM \n",
    "\n",
    "\n",
    "def Mag_to_L(M, opz): \n",
    "    mag = ABMag_to_mag(M, opz)\n",
    "    flux = mag_to_flux(mag)\n",
    "    L  = flux  * 4*np.pi*d_cm(opz)**2 \n",
    "    return L\n",
    "\n",
    "\n",
    "def Rion(fesc, xi_ion, rho_UV ): \n",
    "    Ndot = fesc * 10**xi_ion * rho_UV \n",
    "    return Ndot"
   ]
  },
  {
   "cell_type": "markdown",
   "id": "75852804",
   "metadata": {},
   "source": [
    "#### Let's plot the luminosity function, integrating from -23 (birghtest) to -16 (faintest). \n",
    "#### There are very few objects brighter than UV Mag = -23.  Objects fianter than UV Mag = -16 is too faint to contribute significant amount of photons.  \n",
    "#### ( You can varied the mag_range and integrate $R_{ion}$ to see if it's truth. ) "
   ]
  },
  {
   "cell_type": "code",
   "execution_count": 3,
   "id": "0bb740b3",
   "metadata": {},
   "outputs": [
    {
     "name": "stdout",
     "output_type": "stream",
     "text": [
      "ionizing photon rate= 8.0455E+50\n"
     ]
    },
    {
     "data": {
      "image/png": "[encoded data removed]",
      "text/plain": [
       "<Figure size 432x288 with 1 Axes>"
      ]
     },
     "metadata": {
      "needs_background": "light"
     },
     "output_type": "display_data"
    }
   ],
   "source": [
    "## At redshift of 8: \n",
    "opz = 1+8\n",
    "mag_range = np.arange(-16, -23, -0.001 )\n",
    "L_range = Mag_to_L(mag_range, opz )\n",
    "\n",
    "# integral over UV:  integral = simps(y, x) \n",
    "tot_UV = integrate.simps(LF(mag_range, 9), L_range) \n",
    "Rion_range = Rion(fesc = 0.1, xi_ion = 25.2, rho_UV = tot_UV)\n",
    "print('ionizing photon rate=',\"{:.4E}\".format( Rion_range) )\n",
    "\n",
    "\n",
    "fig, ax = plt.subplots(1,figsize=(6,4))\n",
    "x = mag_range\n",
    "y = np.log10(LF(mag_range, opz) ) \n",
    "\n",
    "ax.plot(x ,y )\n",
    "ax.set_xlabel('UV Mag [mag]', fontsize=15)\n",
    "ax.set_ylabel(r'log($\\phi$)[Mpc$^{-3}$ mag$^{-1}$]', fontsize=15)\n",
    "ax.tick_params(axis='x', labelsize=15)\n",
    "ax.tick_params(axis='y', labelsize=15)\n",
    "\n",
    "\n",
    "\n"
   ]
  },
  {
   "cell_type": "markdown",
   "id": "572b3196",
   "metadata": {},
   "source": [
    "#### Now we will go and solve the diferential equation.  \n",
    "\n",
    "#### The input of the function is $f_{esc}$, $xi_{ion}$, and an array of redshifts. \n",
    "\n",
    "#### I start from redshift z0 = 15, where the ionized fraction x0 = 0 \n",
    "#### In each period of time dt (between redshifts), we will calculate how many ionizing photon we have,  and how many gas we can ionize with the photon, and how many ionized gas gets recommined.  \n",
    "#### After this we update our ionized fraction, and repeat the calculation. "
   ]
  },
  {
   "cell_type": "code",
   "execution_count": 4,
   "id": "06f7243a",
   "metadata": {},
   "outputs": [],
   "source": [
    "def get_xi_with_Rec(fesc, xi_ion,redshift):\n",
    "    x0 = 0\n",
    "    z0 = 15\n",
    "    neutral = []\n",
    "    for i,z in enumerate(redshift):\n",
    "        \n",
    "        mag_range = np.arange(-16, -23, -0.1 )\n",
    "        L_range = Mag_to_L(mag_range, 1+z)\n",
    "        tot_UV = integrate.simps(LF(mag_range, 1+z), L_range) #np.trapz(LF(mag_range, 1+z), L_range )\n",
    "        integral = Rion(fesc, xi_ion , rho_UV =tot_UV)\n",
    "        \n",
    "\n",
    "        nH   = (Planck18.Ob0*Planck18.critical_density0/ (proton_mass*u.g)*fH).value * (1+z)**3. # hydrogen density at z\n",
    "        dt   = (Planck18.lookback_time(z0).value -Planck18.lookback_time(z).value )*Gyr_per_sec # dt\n",
    "        Rrec = (1+fH/ (4*(1-fH))) * alpha * nH  * (9.25 - 7.21)*np.log10(1.0+z)\n",
    "        x1   = integral / (nH*(Mpc_per_cm/(1+z))**3.0)  * dt  - Rrec * dt + x0 # integral\n",
    "        if x1 > 1.0: x1 = 1\n",
    "        if x1 < 0.0: x1 = 0\n",
    "        neutral.append(1.-x1)\n",
    "        x0  = x1\n",
    "        z0  = z \n",
    "    return neutral"
   ]
  },
  {
   "cell_type": "markdown",
   "id": "27428ab0",
   "metadata": {},
   "source": [
    "#### Say we assume $f_{esc} = 0.1$, $\\xi_{ion}$ = 25.2 for all redshift.  \n",
    "#### The above code will calculate from z=15, how many UV photons we have at a that redshift using Luminosity function, \n",
    "#### and how many ionizing photon we have per UV photon density (that's $\\xi_{ion}$),\n",
    "#### and how is that compare with density nH and recombination  Rrec. "
   ]
  },
  {
   "cell_type": "code",
   "execution_count": 5,
   "id": "79250945",
   "metadata": {},
   "outputs": [
    {
     "data": {
      "image/png": "[encoded data removed]",
      "text/plain": [
       "<Figure size 576x360 with 1 Axes>"
      ]
     },
     "metadata": {
      "needs_background": "light"
     },
     "output_type": "display_data"
    }
   ],
   "source": [
    "fig, ax = plt.subplots(1,figsize=(8,5))\n",
    "\n",
    "\n",
    "redshift = np.arange(15, 5, -0.1)\n",
    "x = redshift\n",
    "y2 = get_xi_with_Rec(fesc=0.1 , xi_ion = 25.2, redshift = redshift )\n",
    "ax.plot(x , y2,  'b', ls='--', label=r'f$_{esc}$ = 0.1, $\\xi_{ion}$ = 25.2')\n",
    "\n",
    "\n",
    "redshift = np.arange(15, 6.5, -0.1)\n",
    "x = redshift\n",
    "y2 = get_xi_with_Rec(fesc=0.1 , xi_ion = 25.2, redshift = redshift )\n",
    "ax.scatter(x[-1] , y2[-1],  color='g', marker = '*', s=800, label=r'z = 6.5', zorder=1e10)\n",
    "\n",
    "\n",
    "\n",
    "ax.set_xlim(5., 11.1)\n",
    "ax.set_ylim(-0.1, 1.1)\n",
    "ax.set_xlabel('redshift', fontsize=25)\n",
    "ax.set_ylabel(r'x$_{HI}$', fontsize=25)\n",
    "ax.tick_params(axis='x', labelsize=20)\n",
    "ax.tick_params(axis='y', labelsize=20)\n",
    "plt.legend(loc='lower right', fontsize = 20)\n",
    "\n",
    "#plt.legend(loc='center left', fontsize = 20, bbox_to_anchor=(0.6, 0.32),framealpha=1)\n",
    "\n",
    "plt.show()\n",
    "\n",
    "\n"
   ]
  },
  {
   "cell_type": "markdown",
   "id": "3293b387",
   "metadata": {},
   "source": [
    "#### Now you have the reionization history.   \n",
    "\n",
    "#### In this code,  we solve the neutral fraction evolving from the initial condition (z = 15).  If you'd like to know what is the neutral fraction at given redshift z < 15,  you'll still have to solve the differential equation from the initial condition. "
   ]
  },
  {
   "cell_type": "markdown",
   "id": "628334ee",
   "metadata": {},
   "source": [
    "### Exercise: \n",
    "\n",
    "### Q1: \n",
    "\n",
    "#### $\\xi_{ion}$ is calculated as the following: \n",
    "\n",
    "\n",
    "### $\\xi_{ion} = \\frac{L(H\\beta)}{4.76\\times 10^{-13}} \\frac{(1-fesc)^{-1} }{L_{1500}} $\n",
    "\n",
    "#### $L_{1500}$ is the luminosity of the UV continuum,  which is equivalent to UV Magnitude.  \n",
    "#### At the first order,  we know that $xi_{ion}$ is not constant through out all UV magnitudes.  \n",
    "#### So we have to modified $\\xi_{ion}$ as a function of UV Mag into our differential equaiton! \n",
    "\n",
    "### Q2: \n",
    "\n",
    "#### How to decide the escape fraction $f^{LyC}_{esc}$, if the ionizing photon that escapes the galaxies will still get absorbed by the IGM? \n"
   ]
  },
  {
   "cell_type": "code",
   "execution_count": null,
   "id": "ff48380f",
   "metadata": {},
   "outputs": [],
   "source": []
  }
 ],
 "metadata": {
  "kernelspec": {
   "display_name": "Python 3 (ipykernel)",
   "language": "python",
   "name": "python3"
  },
  "language_info": {
   "codemirror_mode": {
    "name": "ipython",
    "version": 3
   },
   "file_extension": ".py",
   "mimetype": "text/x-python",
   "name": "python",
   "nbconvert_exporter": "python",
   "pygments_lexer": "ipython3",
   "version": "3.7.4"
  }
 },
 "nbformat": 4,
 "nbformat_minor": 5
}
