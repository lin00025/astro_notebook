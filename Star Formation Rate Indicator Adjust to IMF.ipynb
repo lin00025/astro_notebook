{
 "cells": [
  {
   "cell_type": "markdown",
   "id": "0b7fb643",
   "metadata": {},
   "source": [
    "# Just a short notebook that calculate the SFR indicator adjustment based according to different IMF.  The idea of the SFR indicators (such as H$\\alpha$, FIR) here is that these singals are emitted from the massive stars which has short lightspan ( < 50Myr), so tracing the massive stars autometically trace the stars formed within 50 Myr.  \n"
   ]
  },
  {
   "cell_type": "markdown",
   "id": "ac954f37",
   "metadata": {},
   "source": [
    "## Say the Kennicutt law has: \n",
    "\n",
    "## SFR(IR) = 4.5 $\\times$ 10$^{-44}$  L$_{TIR}$ ,\n",
    "## where L$_{TIR}$ is the total infrared luminosity (from 8 $\\mu$m to 1000 $\\mu$m) in the unit of [erg/s] , under the assumption of Salpeter IMF. \n",
    "\n",
    "\n",
    "## Since the O stars (massive stars) are dominating the emission of the SFR indicators, we can distill the calibration factor (4.5$\\times$10$^{-44}$) as: \n",
    "## SFR(IR) = A$\\times (\\frac{M_{total}}{L_{TIR}})$  L$_{TIR}$\n",
    "## = B $\\times ( \\frac{M_{total}}{M_{Ostar}}) (\\frac{M_{Ostar}}{L_{TIR}})$ L$_{TIR}$. \n",
    "## where A, B, and the mass to light ratio ($\\frac{M_{Ostar}}{M_{L_{TIR}}}$) are constants with respect to different IMF.   (Since the O stars are the dominating source of the indicators' emission)\n",
    "\n",
    "## The term $ \\frac{M_{total}}{M_{Ostar}}$ is where we abjust based on the IMF. \n",
    "\n",
    "## $ \\frac{M_{total}}{M_{Ostar}} = \\frac{\\int^{100}_{0.1} m  \\xi dm}{\\int^{100}_{10} m  \\xi dm}$.  here 100 solar mass is the upper limit of the total stellar population, and 10 solar mass is the lower limit of the massive stars (O stars). \n",
    "\n",
    "\n",
    "## If we want to convert the Kennicutt law of Salpeter IMF to Chabrier IMF,  \n",
    "\n",
    "## we should adjust the calibration as : \n",
    "\n",
    "## SFR(IR)$_{Chabrier}$ =  4.5 $\\times$ 10$^{-44} \\times$ $(\\frac{M_{total}}{M_{Ostar}})_{Chabrier}$ /  $(\\frac{M_{total}}{M_{Ostar}})_{Salpeter}$L$_{TIR}$ \n",
    "\n",
    "## $(\\frac{M_{total}}{M_{Ostar}})_{Chabrier}$ /  $(\\frac{M_{total}}{M_{Ostar}})_{Salpeter}$ is the factor between the IMFs"
   ]
  },
  {
   "cell_type": "code",
   "execution_count": 1,
   "id": "ae8552c4",
   "metadata": {},
   "outputs": [],
   "source": [
    "import numpy as np\n",
    "from scipy.integrate import quad\n",
    "\n",
    "\n",
    "\n",
    "\n",
    "def chabrier_imf(m):\n",
    "\n",
    "\n",
    "    m = np.array(m, ndmin=1)\n",
    "    imf = np.zeros_like(m)\n",
    "\n",
    "    # Parameters for Chabrier IMF\n",
    "    mc = 0.08\n",
    "    sigma = 0.69\n",
    "    A = 0.158  \n",
    "    B = A * np.exp(- (np.log10(1) - np.log10(mc))**2 / (2 * sigma**2)) / 1  # continuity at m=1\n",
    "\n",
    "    log10m = np.log10(m)\n",
    "\n",
    "    # IMF for m <= 1 M_sun (log-normal)\n",
    "    mask_low = m <= 1\n",
    "    imf[mask_low] = A * np.exp(- (log10m[mask_low] - np.log10(mc))**2 / (2 * sigma**2)) / m[mask_low]\n",
    "\n",
    "    # IMF for m > 1 M_sun (power-law)\n",
    "    mask_high = m > 1\n",
    "    imf[mask_high] = B * m[mask_high]**(-2.3)\n",
    "    \n",
    "\n",
    "\n",
    "\n",
    "    return imf\n",
    "\n",
    "\n",
    "def kroupa_imf(m):\n",
    "    if m < 0.08:\n",
    "        return 1.0 * m**(-0.3)\n",
    "    elif m < 0.5:\n",
    "        return (0.08**(1.0)) * m**(-1.3)\n",
    "    else:\n",
    "        return (0.08**(1.0)) * (0.5**(-1.3 + 2.3)) * m**(-2.3)\n",
    "\n",
    "\n",
    "def salpeter_imf(m):\n",
    "\n",
    "    m = np.array(m, ndmin=1)\n",
    "    alpha = 2.35\n",
    "    A = 1.0  # Default (unnormalized)\n",
    "\n",
    "    imf = A * m**(-alpha)\n",
    "\n",
    "\n",
    "    return imf \n"
   ]
  },
  {
   "cell_type": "code",
   "execution_count": 2,
   "id": "0926c7e5",
   "metadata": {},
   "outputs": [],
   "source": [
    "\n",
    "norm_sal = quad(salpeter_imf, 0.1, 100)[0]\n",
    "int1_sal = quad(lambda m: m * salpeter_imf(m)/norm_sal, 0.1, 100)[0]\n",
    "int2_sal = quad(lambda m: m * salpeter_imf(m)/norm_sal, 10, 100)[0]\n",
    "\n",
    "\n",
    "norm_kro = quad(kroupa_imf, 0.1, 100)[0]\n",
    "int1_kro = quad(lambda m: m * kroupa_imf(m)/norm_kro, 0.1, 100)[0]\n",
    "int2_kro = quad(lambda m: m * kroupa_imf(m)/norm_kro, 10, 100)[0]\n",
    "\n",
    "\n",
    "norm_cha = quad(chabrier_imf, 0.1, 100)[0]\n",
    "int1_cha = quad(lambda m: m *chabrier_imf(m)/norm_cha, 0.1, 100)[0]\n",
    "int2_cha = quad(lambda m: m *chabrier_imf(m)/norm_cha, 10, 100)[0]\n"
   ]
  },
  {
   "cell_type": "code",
   "execution_count": 3,
   "id": "130b7db4",
   "metadata": {},
   "outputs": [
    {
     "data": {
      "text/plain": [
       "2.745651279496629e-44"
      ]
     },
     "execution_count": 3,
     "metadata": {},
     "output_type": "execute_result"
    }
   ],
   "source": [
    "4.5e-44 *  ( int1_cha/int2_cha )/ ( int1_sal/int2_sal ) "
   ]
  },
  {
   "cell_type": "markdown",
   "id": "8f27670d",
   "metadata": {},
   "source": [
    "## So the Kennicutt law in Chabrier IMF is SFR  = 2.74$\\times$10$^{-44}$ L$_{IR}$ "
   ]
  },
  {
   "cell_type": "code",
   "execution_count": null,
   "id": "8aa2b32e",
   "metadata": {},
   "outputs": [],
   "source": []
  }
 ],
 "metadata": {
  "kernelspec": {
   "display_name": "Python 3 (ipykernel)",
   "language": "python",
   "name": "python3"
  },
  "language_info": {
   "codemirror_mode": {
    "name": "ipython",
    "version": 3
   },
   "file_extension": ".py",
   "mimetype": "text/x-python",
   "name": "python",
   "nbconvert_exporter": "python",
   "pygments_lexer": "ipython3",
   "version": "3.11.0"
  }
 },
 "nbformat": 4,
 "nbformat_minor": 5
}
